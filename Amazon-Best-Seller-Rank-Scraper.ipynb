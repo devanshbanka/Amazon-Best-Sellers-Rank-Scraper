{
 "cells": [
  {
   "cell_type": "code",
   "execution_count": 1,
   "id": "fa649a33-d961-421f-ba73-935c779dcabe",
   "metadata": {},
   "outputs": [],
   "source": [
    "# import libraries \n",
    "\n",
    "import gspread\n",
    "from oauth2client.service_account import ServiceAccountCredentials\n",
    "from bs4 import BeautifulSoup\n",
    "import requests\n",
    "import datetime\n",
    "import re"
   ]
  },
  {
   "cell_type": "code",
   "execution_count": 2,
   "id": "0e4e16ac",
   "metadata": {},
   "outputs": [],
   "source": [
    "# Define your Google Sheets credentials\n",
    "scope = ['https://spreadsheets.google.com/feeds',\n",
    "         'https://www.googleapis.com/auth/drive']\n",
    "creds = ServiceAccountCredentials.from_json_keyfile_name('path/to/credentials.json', scope)\n",
    "client = gspread.authorize(creds)"
   ]
  },
  {
   "cell_type": "code",
   "execution_count": 3,
   "id": "748122f1-28b1-4185-848f-9af8b6b1e5a2",
   "metadata": {},
   "outputs": [],
   "source": [
    "sheet = client.open('Amazon Data Analytics').sheet1\n",
    "skus = sheet.col_values(1)[1:]\n",
    "urls = sheet.col_values(2)[1:]"
   ]
  },
  {
   "cell_type": "code",
   "execution_count": 4,
   "id": "9f93aac3",
   "metadata": {},
   "outputs": [],
   "source": [
    "# Comment after running the first time\n",
    "\n",
    "column_names = ['DateTime', 'JewelleryRanking', 'WomensBrooches&PinsRanking']\n",
    "for sku in skus:\n",
    "    worksheet = client.open('Amazon Data Analytics').add_worksheet(title=sku, rows=\"500\", cols=\"20\")\n",
    "    worksheet.append_row(column_names)\n",
    "    pass"
   ]
  },
  {
   "cell_type": "code",
   "execution_count": 5,
   "id": "1e4d0e21",
   "metadata": {},
   "outputs": [],
   "source": [
    "# Code to delete all worksheets except first, Uncomment only when required.\n",
    "\n",
    "#sheet = client.open(\"Amazon Data Analytics\")\n",
    "#worksheets = sheet.worksheets()\n",
    "#main_sheet = worksheets[0]\n",
    "#for worksheet in worksheets[1:]:\n",
    "#    sheet.del_worksheet(worksheet)"
   ]
  },
  {
   "cell_type": "code",
   "execution_count": 6,
   "id": "aeb1dd5d-fbd7-429d-8686-970c80326e4f",
   "metadata": {},
   "outputs": [],
   "source": [
    "def pull_rank(sku, url):\n",
    "\n",
    "    headers = {\"User-Agent\": \"Mozilla/5.0 (Macintosh; Intel Mac OS X 10_15_7) AppleWebKit/605.1.15 (KHTML, like Gecko) Version/16.3 Safari/605.1.15\", \"Accept-Encoding\":\"gzip, deflate\", \"Accept\":\"text/html,application/xhtml+xml,application/xml;q=0.9,*/*;q=0.8\", \"DNT\":\"1\",\"Connection\":\"close\", \"Upgrade-Insecure-Requests\":\"1\"}\n",
    "\n",
    "    response = requests.get(url, headers=headers)\n",
    "\n",
    "    soup1 = BeautifulSoup(response.content, \"html.parser\")\n",
    "\n",
    "    soup2 = BeautifulSoup(soup1.prettify(), \"html.parser\")\n",
    "\n",
    "    text='Best Sellers Rank:'\n",
    "\n",
    "    gfg = soup2.find(lambda tag: tag.name == \"span\" and text in tag.text).get_text()\n",
    "\n",
    "    gfg = gfg.replace(',','')\n",
    "\n",
    "    first_ranking = re.search(r\"(?<=#).*?(\\d+)\", gfg).group(0)\n",
    "        \n",
    "    gfg = gfg.replace(first_ranking,'')\n",
    "    second_ranking = re.search(r\"(?<=#).*?(\\d+)\", gfg).group(0)\n",
    "\n",
    "    first_ranking = int(first_ranking)\n",
    "    second_ranking = int(second_ranking)\n",
    "\n",
    "    time = datetime.datetime.now().strftime(\"%Y-%m-%d %H:%M:%S\")\n",
    "\n",
    "    data = [time, first_ranking, second_ranking]\n",
    "\n",
    "    sheet = client.open('Amazon Data Analytics').worksheet(sku)\n",
    "    sheet.append_row(data)"
   ]
  },
  {
   "cell_type": "code",
   "execution_count": 7,
   "id": "d90a8bae",
   "metadata": {},
   "outputs": [],
   "source": [
    "for sku, url in zip(skus, urls):\n",
    "    pull_rank(sku, url)"
   ]
  }
 ],
 "metadata": {
  "kernelspec": {
   "display_name": "Python 3 (ipykernel)",
   "language": "python",
   "name": "python3"
  },
  "language_info": {
   "codemirror_mode": {
    "name": "ipython",
    "version": 3
   },
   "file_extension": ".py",
   "mimetype": "text/x-python",
   "name": "python",
   "nbconvert_exporter": "python",
   "pygments_lexer": "ipython3",
   "version": "3.11.5"
  }
 },
 "nbformat": 4,
 "nbformat_minor": 5
}
